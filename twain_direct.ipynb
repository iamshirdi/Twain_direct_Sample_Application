{
 "cells": [
  {
   "cell_type": "code",
   "execution_count": 75,
   "metadata": {
    "scrolled": true
   },
   "outputs": [
    {
     "data": {
      "text/plain": [
       "'1600012122'"
      ]
     },
     "execution_count": 75,
     "metadata": {},
     "output_type": "execute_result"
    }
   ],
   "source": [
    "import time\n",
    "import math\n",
    "id=str(math.floor(time.time()))\n",
    "id"
   ]
  },
  {
   "cell_type": "code",
   "execution_count": 76,
   "metadata": {},
   "outputs": [
    {
     "data": {
      "text/plain": [
       "['cer.py',\n",
       " 'certify.pem',\n",
       " 'fetch.js',\n",
       " 'fetch_test.html',\n",
       " 'TWAIN Direct Self-Signed Root Authority for LAPTOP-81UMPBDJ-pc.cer',\n",
       " 'twca_root.cer']"
      ]
     },
     "execution_count": 76,
     "metadata": {},
     "output_type": "execute_result"
    }
   ],
   "source": [
    "import os\n",
    "os.listdir('C:/Users/asmna/Desktop/TWAIN Direct Certificates/')"
   ]
  },
  {
   "cell_type": "markdown",
   "metadata": {
    "scrolled": true
   },
   "source": [
    "# Scanner status info"
   ]
  },
  {
   "cell_type": "code",
   "execution_count": 4,
   "metadata": {
    "scrolled": true
   },
   "outputs": [
    {
     "name": "stdout",
     "output_type": "stream",
     "text": [
      "<Response [200]>\n"
     ]
    },
    {
     "name": "stderr",
     "output_type": "stream",
     "text": [
      "C:\\Users\\asmna\\Documents\\Python\\lib\\site-packages\\urllib3\\connectionpool.py:847: InsecureRequestWarning: Unverified HTTPS request is being made. Adding certificate verification is strongly advised. See: https://urllib3.readthedocs.io/en/latest/advanced-usage.html#ssl-warnings\n",
      "  InsecureRequestWarning)\n"
     ]
    }
   ],
   "source": [
    "# import requests module \n",
    "import requests \n",
    "  \n",
    "# Making a get request \n",
    "response = requests.get('https://LAPTOP-81UMPBDJ.local:34034/privet/info', verify = False) \n",
    "  \n",
    "# print request object \n",
    "print(response) "
   ]
  },
  {
   "cell_type": "code",
   "execution_count": 5,
   "metadata": {},
   "outputs": [
    {
     "data": {
      "text/plain": [
       "{'version': '1.0',\n",
       " 'name': 'TWAIN2 FreeImage Software Scanner',\n",
       " 'description': 'twain virtual scanner',\n",
       " 'url': 'https://twain.hazybits.com/api',\n",
       " 'type': 'twaindirect',\n",
       " 'id': 'ebfbf2ac-deec-4d58-b408-b8f691ce7567',\n",
       " 'device_state': 'idle',\n",
       " 'connection_state': 'offline',\n",
       " 'manufacturer': '',\n",
       " 'model': '',\n",
       " 'serial_number': '',\n",
       " 'firmware': '',\n",
       " 'uptime': '149',\n",
       " 'setup_url': '',\n",
       " 'support_url': '',\n",
       " 'update_url': '',\n",
       " 'x-privet-token': '3d1YS7dpS7Ial1aUZKcSJWDnyys=:637356578364049941',\n",
       " 'api': ['/privet/twaindirect/session'],\n",
       " 'semantic_state': ''}"
      ]
     },
     "execution_count": 5,
     "metadata": {},
     "output_type": "execute_result"
    }
   ],
   "source": [
    "response.json()"
   ]
  },
  {
   "cell_type": "code",
   "execution_count": 31,
   "metadata": {},
   "outputs": [
    {
     "data": {
      "text/plain": [
       "'xqOOR7NV1biUHGMWwY5U87fQh0Q=:637356480028503910'"
      ]
     },
     "execution_count": 31,
     "metadata": {},
     "output_type": "execute_result"
    }
   ],
   "source": [
    "response.json()['x-privet-token']"
   ]
  },
  {
   "cell_type": "code",
   "execution_count": 32,
   "metadata": {},
   "outputs": [
    {
     "data": {
      "text/plain": [
       "<function id(obj, /)>"
      ]
     },
     "execution_count": 32,
     "metadata": {},
     "output_type": "execute_result"
    }
   ],
   "source": [
    "id"
   ]
  },
  {
   "cell_type": "code",
   "execution_count": 1,
   "metadata": {},
   "outputs": [
    {
     "data": {
      "text/plain": [
       "b'{\"kind\": \"twainlocalscanner\",\"commandId\": \"0ac07a52-3127-4876-bebe-6ecd2351f641\",\"method\": \"createSession\"}'"
      ]
     },
     "execution_count": 1,
     "metadata": {},
     "output_type": "execute_result"
    }
   ],
   "source": [
    "dat='{\"kind\": \"twainlocalscanner\",\"commandId\": \"0ac07a52-3127-4876-bebe-6ecd2351f641\",\"method\": \"createSession\"}'.encode('utf-8')\n",
    "dat"
   ]
  },
  {
   "cell_type": "markdown",
   "metadata": {},
   "source": [
    " # Session Create"
   ]
  },
  {
   "cell_type": "code",
   "execution_count": null,
   "metadata": {},
   "outputs": [],
   "source": []
  },
  {
   "cell_type": "code",
   "execution_count": null,
   "metadata": {},
   "outputs": [],
   "source": []
  },
  {
   "cell_type": "code",
   "execution_count": 6,
   "metadata": {},
   "outputs": [
    {
     "name": "stderr",
     "output_type": "stream",
     "text": [
      "C:\\Users\\asmna\\Documents\\Python\\lib\\site-packages\\urllib3\\connectionpool.py:847: InsecureRequestWarning: Unverified HTTPS request is being made. Adding certificate verification is strongly advised. See: https://urllib3.readthedocs.io/en/latest/advanced-usage.html#ssl-warnings\n",
      "  InsecureRequestWarning)\n"
     ]
    },
    {
     "name": "stdout",
     "output_type": "stream",
     "text": [
      "{\"kind\":\"twainlocalscanner\",\"commandId\":\"0ac07a52-3127-4876-bebe-6ecd2351f641\",\"method\":\"createSession\",\"results\":{\"success\":true,\"session\":{\"sessionId\":\"36dd6f25-2fe0-4570-8951-6434e730819c\",\"revision\":1,\"state\":\"ready\",\"status\":{\"success\":true,\"detected\":\"nominal\"},\"doneCapturing\":true,\"imageBlocksDrained\":true,\"imageBlockNum\":0,\"imageBlocks\":[],\"imageBlocksComplete\":[]}}}\n"
     ]
    }
   ],
   "source": [
    "url='https://LAPTOP-81UMPBDJ.local:34034/privet/twaindirect/session'\n",
    "dat='{\"kind\": \"twainlocalscanner\",\"commandId\": \"0ac07a52-3127-4876-bebe-6ecd2351f641\",\"method\": \"createSession\"}'.encode('utf-8')\n",
    "\n",
    "headers={\"Content-Type\":\"application/json; charset=UTF-8\",\"Content-Length\": str(len(dat)),\"X-Privet-Token\": response.json()['x-privet-token']}\n",
    "\n",
    "y = requests.post(url, headers = headers, data=dat, verify = False)\n",
    "\n",
    "print(y.text)"
   ]
  },
  {
   "cell_type": "code",
   "execution_count": 34,
   "metadata": {},
   "outputs": [
    {
     "data": {
      "text/plain": [
       "107"
      ]
     },
     "execution_count": 34,
     "metadata": {},
     "output_type": "execute_result"
    }
   ],
   "source": [
    "len(dat)"
   ]
  },
  {
   "cell_type": "code",
   "execution_count": 35,
   "metadata": {},
   "outputs": [
    {
     "data": {
      "text/plain": [
       "'107'"
      ]
     },
     "execution_count": 35,
     "metadata": {},
     "output_type": "execute_result"
    }
   ],
   "source": [
    "s=u'{\"kind\": \"twainlocalscanner\",\"commandId\": \"0ac07a52-3127-4876-bebe-6ecd2351f641\",\"method\": \"createSession\"}'\n",
    "str(len(s))"
   ]
  },
  {
   "cell_type": "code",
   "execution_count": 8,
   "metadata": {},
   "outputs": [
    {
     "data": {
      "text/plain": [
       "b'36dd6f25-2fe0-4570-8951-6434e730819c'"
      ]
     },
     "execution_count": 8,
     "metadata": {},
     "output_type": "execute_result"
    }
   ],
   "source": [
    "ses=y.json()['results']['session']['sessionId']\n",
    "sess=ses.encode('utf-8')\n",
    "sess"
   ]
  },
  {
   "cell_type": "markdown",
   "metadata": {},
   "source": [
    "# Start Capturing"
   ]
  },
  {
   "cell_type": "code",
   "execution_count": 11,
   "metadata": {},
   "outputs": [
    {
     "data": {
      "text/plain": [
       "167"
      ]
     },
     "execution_count": 11,
     "metadata": {},
     "output_type": "execute_result"
    }
   ],
   "source": [
    "url='https://LAPTOP-81UMPBDJ.local:34034/privet/twaindirect/session'\n",
    "data3='{\"kind\":\"twainlocalscanner\",\"commandId\":\"4e9a6939-f0d4-4756-b416-c7d76bb6f15d\",\"method\":\"startCapturing\",\"params\":{\"sessionId\":\"73c3fcae-a312-4371-9ff4-c2f7916ee909\"}}'.encode('utf-8')\n",
    "len(data3)"
   ]
  },
  {
   "cell_type": "code",
   "execution_count": 9,
   "metadata": {},
   "outputs": [
    {
     "name": "stderr",
     "output_type": "stream",
     "text": [
      "C:\\Users\\asmna\\Documents\\Python\\lib\\site-packages\\urllib3\\connectionpool.py:847: InsecureRequestWarning: Unverified HTTPS request is being made. Adding certificate verification is strongly advised. See: https://urllib3.readthedocs.io/en/latest/advanced-usage.html#ssl-warnings\n",
      "  InsecureRequestWarning)\n"
     ]
    },
    {
     "name": "stdout",
     "output_type": "stream",
     "text": [
      "{\"kind\":\"twainlocalscanner\",\"commandId\":\"0ac07a52-3127-4876-bebe-6ecd2351f662\",\"method\":\"startCapturing\",\"results\":{\"success\":true,\"session\":{\"sessionId\":\"36dd6f25-2fe0-4570-8951-6434e730819c\",\"revision\":2,\"state\":\"capturing\",\"status\":{\"success\":true,\"detected\":\"nominal\"},\"doneCapturing\":false,\"imageBlocksDrained\":false,\"imageBlockNum\":0,\"imageBlocks\":[],\"imageBlocksComplete\":[]}}}\n"
     ]
    }
   ],
   "source": [
    "url='https://LAPTOP-81UMPBDJ.local:34034/privet/twaindirect/session'\n",
    "\n",
    "dat='{\"kind\": \"twainlocalscanner\",\"commandId\": \"0ac07a52-3127-4876-bebe-6ecd2351f662\",\"method\": \"startCapturing\",\"params\": {\"sessionId\":\"'.encode('utf-8')+sess+'\"}}'.encode('utf-8')\n",
    "\n",
    "headers={\"Content-Type\":\"application/json; charset=UTF-8\",\"Content-Length\": str(len(dat)),\"X-Privet-Token\": response.json()['x-privet-token']}\n",
    "\n",
    "z = requests.post(url, headers = headers, data=dat, verify = False)\n",
    "\n",
    "print(z.text)"
   ]
  },
  {
   "cell_type": "code",
   "execution_count": 87,
   "metadata": {},
   "outputs": [
    {
     "data": {
      "text/plain": [
       "b'{\"kind\": \"twainlocalscanner\",\"commandId\": \"0ac07a52-3127-4876-bebe-6ecd2351f662\",\"method\": \"startCapturing\",\"params\": {\"sessionId\":\"731b8fa2-b297-4c00-aedf-556a07f37592\"}}'"
      ]
     },
     "execution_count": 87,
     "metadata": {},
     "output_type": "execute_result"
    }
   ],
   "source": [
    "dat"
   ]
  },
  {
   "cell_type": "code",
   "execution_count": 88,
   "metadata": {},
   "outputs": [
    {
     "data": {
      "text/plain": [
       "'171'"
      ]
     },
     "execution_count": 88,
     "metadata": {},
     "output_type": "execute_result"
    }
   ],
   "source": [
    "str(len(dat))"
   ]
  },
  {
   "cell_type": "markdown",
   "metadata": {},
   "source": [
    "# wait for events"
   ]
  },
  {
   "cell_type": "code",
   "execution_count": 10,
   "metadata": {},
   "outputs": [
    {
     "name": "stderr",
     "output_type": "stream",
     "text": [
      "C:\\Users\\asmna\\Documents\\Python\\lib\\site-packages\\urllib3\\connectionpool.py:847: InsecureRequestWarning: Unverified HTTPS request is being made. Adding certificate verification is strongly advised. See: https://urllib3.readthedocs.io/en/latest/advanced-usage.html#ssl-warnings\n",
      "  InsecureRequestWarning)\n"
     ]
    },
    {
     "name": "stdout",
     "output_type": "stream",
     "text": [
      "{\"kind\":\"twainlocalscanner\",\"commandId\":\"0ac07a52-3127-4876-bebe-6ecd2351f662\",\"method\":\"waitForEvents\",\"results\":{\"success\":true,\"events\":[{\"event\":\"imageBlocks\",\"session\":{\"sessionId\":\"36dd6f25-2fe0-4570-8951-6434e730819c\",\"revision\":3,\"state\":\"capturing\",\"status\":{\"success\":true,\"detected\":\"nominal\"},\"doneCapturing\":true,\"imageBlocksDrained\":false,\"imageBlockNum\":0,\"imageBlocks\":[1],\"imageBlocksComplete\":[{\"f\":1,\"l\":1}]}}]}}\n"
     ]
    }
   ],
   "source": [
    "url='https://LAPTOP-81UMPBDJ.local:34034/privet/twaindirect/session'\n",
    "\n",
    "dat='{\"kind\": \"twainlocalscanner\",\"commandId\": \"0ac07a52-3127-4876-bebe-6ecd2351f662\",\"method\": \"waitForEvents\",\"params\": {\"sessionId\":\"'.encode('utf-8')+sess+'\",\"sessionRevision\":2}}'.encode('utf-8')\n",
    "\n",
    "headers={\"Content-Type\":\"application/json; charset=UTF-8\",\"Content-Length\": str(len(dat)),\"X-Privet-Token\": response.json()['x-privet-token']}\n",
    "\n",
    "z = requests.post(url, headers = headers, data=dat, verify = False)\n",
    "\n",
    "print(z.text)"
   ]
  },
  {
   "cell_type": "markdown",
   "metadata": {},
   "source": [
    "# wait for events"
   ]
  },
  {
   "cell_type": "code",
   "execution_count": 11,
   "metadata": {},
   "outputs": [
    {
     "name": "stdout",
     "output_type": "stream",
     "text": [
      "{\"kind\":\"twainlocalscanner\",\"commandId\":\"0ac07a52-7127-4976-bebe-6ecd2351f662\",\"method\":\"waitForEvents\",\"results\":{\"success\":true,\"events\":[{\"event\":\"timeout\",\"session\":{\"sessionId\":\"36dd6f25-2fe0-4570-8951-6434e730819c\",\"revision\":4,\"state\":\"capturing\",\"status\":{\"success\":true,\"detected\":\"nominal\"},\"doneCapturing\":false,\"imageBlocksDrained\":false,\"imageBlockNum\":0,\"imageBlocks\":[],\"imageBlocksComplete\":[]}}]}}\n"
     ]
    },
    {
     "name": "stderr",
     "output_type": "stream",
     "text": [
      "C:\\Users\\asmna\\Documents\\Python\\lib\\site-packages\\urllib3\\connectionpool.py:847: InsecureRequestWarning: Unverified HTTPS request is being made. Adding certificate verification is strongly advised. See: https://urllib3.readthedocs.io/en/latest/advanced-usage.html#ssl-warnings\n",
      "  InsecureRequestWarning)\n"
     ]
    }
   ],
   "source": [
    "url='https://LAPTOP-81UMPBDJ.local:34034/privet/twaindirect/session'\n",
    "\n",
    "dat='{\"kind\": \"twainlocalscanner\",\"commandId\": \"0ac07a52-7127-4976-bebe-6ecd2351f662\",\"method\": \"waitForEvents\",\"params\": {\"sessionId\":\"'.encode('utf-8')+sess+'\",\"sessionRevision\":3}}'.encode('utf-8')\n",
    "\n",
    "headers={\"Content-Type\":\"application/json; charset=UTF-8\",\"Content-Length\": str(len(dat)),\"X-Privet-Token\": response.json()['x-privet-token']}\n",
    "\n",
    "z = requests.post(url, headers = headers, data=dat, verify = False)\n",
    "\n",
    "print(z.text)"
   ]
  },
  {
   "cell_type": "markdown",
   "metadata": {},
   "source": [
    "# Stop Captruing"
   ]
  },
  {
   "cell_type": "code",
   "execution_count": 12,
   "metadata": {},
   "outputs": [
    {
     "name": "stdout",
     "output_type": "stream",
     "text": [
      "{\"kind\":\"twainlocalscanner\",\"commandId\":\"0ac07a52-3127-4876-bebe-6ecd2351f662\",\"method\":\"stopCapturing\",\"results\":{\"success\":true,\"session\":{\"sessionId\":\"36dd6f25-2fe0-4570-8951-6434e730819c\",\"revision\":5,\"state\":\"draining\",\"status\":{\"success\":true,\"detected\":\"nominal\"},\"doneCapturing\":true,\"imageBlocksDrained\":false,\"imageBlockNum\":0,\"imageBlocks\":[1],\"imageBlocksComplete\":[{\"f\":1,\"l\":1}]}}}\n"
     ]
    },
    {
     "name": "stderr",
     "output_type": "stream",
     "text": [
      "C:\\Users\\asmna\\Documents\\Python\\lib\\site-packages\\urllib3\\connectionpool.py:847: InsecureRequestWarning: Unverified HTTPS request is being made. Adding certificate verification is strongly advised. See: https://urllib3.readthedocs.io/en/latest/advanced-usage.html#ssl-warnings\n",
      "  InsecureRequestWarning)\n"
     ]
    }
   ],
   "source": [
    "url='https://LAPTOP-81UMPBDJ.local:34034/privet/twaindirect/session'\n",
    "\n",
    "dat='{\"kind\": \"twainlocalscanner\",\"commandId\": \"0ac07a52-3127-4876-bebe-6ecd2351f662\",\"method\": \"stopCapturing\",\"params\": {\"sessionId\":\"'.encode('utf-8')+sess+'\"}}'.encode('utf-8')\n",
    "\n",
    "headers={\"Content-Type\":\"application/json; charset=UTF-8\",\"Content-Length\": str(len(dat)),\"X-Privet-Token\": response.json()['x-privet-token']}\n",
    "\n",
    "z = requests.post(url, headers = headers, data=dat, verify = False)\n",
    "\n",
    "print(z.text)"
   ]
  },
  {
   "cell_type": "markdown",
   "metadata": {},
   "source": [
    "   # wait for events"
   ]
  },
  {
   "cell_type": "code",
   "execution_count": 70,
   "metadata": {},
   "outputs": [
    {
     "name": "stderr",
     "output_type": "stream",
     "text": [
      "C:\\Users\\asmna\\Documents\\Python\\lib\\site-packages\\urllib3\\connectionpool.py:847: InsecureRequestWarning: Unverified HTTPS request is being made. Adding certificate verification is strongly advised. See: https://urllib3.readthedocs.io/en/latest/advanced-usage.html#ssl-warnings\n",
      "  InsecureRequestWarning)\n"
     ]
    },
    {
     "name": "stdout",
     "output_type": "stream",
     "text": [
      "{\"kind\":\"twainlocalscanner\",\"commandId\":\"0ac07a52-7127-4976-babe-6ecd2351f662\",\"method\":\"waitForEvents\",\"results\":{\"success\":true,\"events\":[{\"event\":\"timeout\",\"session\":{\"sessionId\":\"73924d9a-7294-43cd-959a-84156f538260\",\"revision\":5,\"state\":\"capturing\",\"status\":{\"success\":true,\"detected\":\"nominal\"},\"doneCapturing\":false,\"imageBlocksDrained\":false,\"imageBlockNum\":0,\"imageBlocks\":[],\"imageBlocksComplete\":[]}}]}}\n"
     ]
    }
   ],
   "source": [
    "url='https://LAPTOP-81UMPBDJ.local:34034/privet/twaindirect/session'\n",
    "\n",
    "dat='{\"kind\": \"twainlocalscanner\",\"commandId\": \"0ac07a52-7127-4976-babe-6ecd2351f662\",\"method\": \"waitForEvents\",\"params\": {\"sessionId\":\"'.encode('utf-8')+sess+'\",\"sessionRevision\":4}}'.encode('utf-8')\n",
    "\n",
    "headers={\"Content-Type\":\"application/json; charset=UTF-8\",\"Content-Length\": str(len(dat)),\"X-Privet-Token\": response.json()['x-privet-token']}\n",
    "\n",
    "z = requests.post(url, headers = headers, data=dat, verify = False)\n",
    "\n",
    "print(z.text)"
   ]
  },
  {
   "cell_type": "code",
   "execution_count": 35,
   "metadata": {},
   "outputs": [
    {
     "data": {
      "text/plain": [
       "b'{\"kind\": \"twainlocalscanner\",\"commandId\": \"0ac07a51-367-4876-bebe-6ecd2351f622\",\"method\": \"waitForEvents\",\"params\": {\"sessionId\":\"30b815e3-e2fb-40f2-8f89-c2c28266a583\",\"sessionRevision\":5}}'"
      ]
     },
     "execution_count": 35,
     "metadata": {},
     "output_type": "execute_result"
    }
   ],
   "source": [
    "dat"
   ]
  },
  {
   "cell_type": "markdown",
   "metadata": {},
   "source": [
    "# wait for events"
   ]
  },
  {
   "cell_type": "code",
   "execution_count": 15,
   "metadata": {},
   "outputs": [
    {
     "name": "stderr",
     "output_type": "stream",
     "text": [
      "C:\\Users\\asmna\\Documents\\Python\\lib\\site-packages\\urllib3\\connectionpool.py:847: InsecureRequestWarning: Unverified HTTPS request is being made. Adding certificate verification is strongly advised. See: https://urllib3.readthedocs.io/en/latest/advanced-usage.html#ssl-warnings\n",
      "  InsecureRequestWarning)\n"
     ]
    },
    {
     "name": "stdout",
     "output_type": "stream",
     "text": [
      "{\"kind\":\"twainlocalscanner\",\"commandId\":\"0ac07a52-3127-4876-bebe-6ecd2351f622\",\"method\":\"waitForEvents\",\"results\":{\"success\":true,\"events\":[{\"event\":\"timeout\",\"session\":{\"sessionId\":\"6a199b8b-1d35-45d0-baa5-23723fc3ca54\",\"revision\":6,\"state\":\"draining\",\"status\":{\"success\":true,\"detected\":\"nominal\"},\"doneCapturing\":false,\"imageBlocksDrained\":false,\"imageBlockNum\":0,\"imageBlocks\":[],\"imageBlocksComplete\":[]}}]}}\n"
     ]
    }
   ],
   "source": [
    "url='https://LAPTOP-81UMPBDJ.local:34034/privet/twaindirect/session'\n",
    "\n",
    "dat='{\"kind\": \"twainlocalscanner\",\"commandId\": \"0ac07a52-3125-4876-bebe-6ecd2351f622\",\"method\": \"waitForEvents\",\"params\": {\"sessionId\":\"'.encode('utf-8')+sess+'\",\"sessionRevision\":5}}'.encode('utf-8')\n",
    "\n",
    "headers={\"Content-Type\":\"application/json; charset=UTF-8\",\"Content-Length\": str(len(dat)),\"X-Privet-Token\": response.json()['x-privet-token']}\n",
    "\n",
    "z = requests.post(url, headers = headers, data=dat, verify = False)\n",
    "\n",
    "print(z.text)"
   ]
  },
  {
   "cell_type": "markdown",
   "metadata": {},
   "source": [
    "# Read Image Blocks Metadata"
   ]
  },
  {
   "cell_type": "code",
   "execution_count": 13,
   "metadata": {},
   "outputs": [
    {
     "name": "stdout",
     "output_type": "stream",
     "text": [
      "{\"kind\":\"twainlocalscanner\",\"commandId\":\"7540dfa3-91c4-4eca-b566-52c0fff9cb6a\",\"method\":\"readImageBlockMetadata\",\"results\":{\"success\":true,\"metadata\":{\"address\":{\"imageNumber\":1,\"imagePart\":1,\"moreParts\":\"lastPartInFile\",\"sheetNumber\":1,\"source\":\"feederFront\",\"streamName\":\"stream0\",\"sourceName\":\"source0\",\"pixelFormatName\":\"pixelFormat0\"},\"image\":{\"compression\":\"none\",\"pixelFormat\":\"rgb24\",\"pixelHeight\":2200,\"pixelOffsetX\":0,\"pixelOffsetY\":0,\"pixelWidth\":1700,\"resolution\":200},\"status\":{\"success\":true}},\"session\":{\"sessionId\":\"36dd6f25-2fe0-4570-8951-6434e730819c\",\"revision\":6,\"state\":\"draining\",\"status\":{\"success\":true,\"detected\":\"nominal\"},\"doneCapturing\":true,\"imageBlocksDrained\":false,\"imageBlockNum\":1,\"imageBlocks\":[1],\"imageBlocksComplete\":[{\"f\":1,\"l\":1}]}}}\n"
     ]
    },
    {
     "name": "stderr",
     "output_type": "stream",
     "text": [
      "C:\\Users\\asmna\\Documents\\Python\\lib\\site-packages\\urllib3\\connectionpool.py:847: InsecureRequestWarning: Unverified HTTPS request is being made. Adding certificate verification is strongly advised. See: https://urllib3.readthedocs.io/en/latest/advanced-usage.html#ssl-warnings\n",
      "  InsecureRequestWarning)\n"
     ]
    }
   ],
   "source": [
    "url='https://LAPTOP-81UMPBDJ.local:34034/privet/twaindirect/session'\n",
    "\n",
    "dat='{\"kind\":\"twainlocalscanner\",\"commandId\":\"7540dfa3-91c4-4eca-b566-52c0fff9cb6a\",\"method\":\"readImageBlockMetadata\",\"params\":{\"sessionId\":\"'.encode('utf-8')+sess+'\",\"imageBlockNum\":1}}'.encode('utf-8')\n",
    "\n",
    "headers={\"Content-Type\":\"application/json; charset=UTF-8\",\"Content-Length\": str(len(dat)),\"X-Privet-Token\": response.json()['x-privet-token']}\n",
    "\n",
    "z = requests.post(url, headers = headers, data=dat, verify = False)\n",
    "\n",
    "print(z.text)"
   ]
  },
  {
   "cell_type": "code",
   "execution_count": null,
   "metadata": {},
   "outputs": [],
   "source": []
  },
  {
   "cell_type": "markdown",
   "metadata": {},
   "source": [
    "# Read Image Blocks"
   ]
  },
  {
   "cell_type": "code",
   "execution_count": 14,
   "metadata": {},
   "outputs": [
    {
     "name": "stdout",
     "output_type": "stream",
     "text": [
      "185\n"
     ]
    },
    {
     "data": {
      "text/plain": [
       "b'{\"kind\":\"twainlocalscanner\",\"commandId\":\"7540dfa3-91c4-4eca-b566-52c0fff9cb6a\",\"method\":\"readImageBlock\",\"params\":{\"sessionId\":\"36dd6f25-2fe0-4570-8951-6434e730819c\",\"imageBlockNum\":1}}'"
      ]
     },
     "execution_count": 14,
     "metadata": {},
     "output_type": "execute_result"
    }
   ],
   "source": [
    "dat='{\"kind\":\"twainlocalscanner\",\"commandId\":\"7540dfa3-91c4-4eca-b566-52c0fff9cb6a\",\"method\":\"readImageBlock\",\"params\":{\"sessionId\":\"'.encode('utf-8')+sess+'\",\"imageBlockNum\":1}}'.encode('utf-8')\n",
    "print(len(dat))\n",
    "dat\n"
   ]
  },
  {
   "cell_type": "code",
   "execution_count": 15,
   "metadata": {},
   "outputs": [
    {
     "name": "stderr",
     "output_type": "stream",
     "text": [
      "C:\\Users\\asmna\\Documents\\Python\\lib\\site-packages\\urllib3\\connectionpool.py:847: InsecureRequestWarning: Unverified HTTPS request is being made. Adding certificate verification is strongly advised. See: https://urllib3.readthedocs.io/en/latest/advanced-usage.html#ssl-warnings\n",
      "  InsecureRequestWarning)\n",
      "IOPub data rate exceeded.\n",
      "The notebook server will temporarily stop sending output\n",
      "to the client in order to avoid crashing it.\n",
      "To change this limit, set the config variable\n",
      "`--NotebookApp.iopub_data_rate_limit`.\n",
      "\n",
      "Current values:\n",
      "NotebookApp.iopub_data_rate_limit=1000000.0 (bytes/sec)\n",
      "NotebookApp.rate_limit_window=3.0 (secs)\n",
      "\n"
     ]
    }
   ],
   "source": [
    "url='https://LAPTOP-81UMPBDJ.local:34034/privet/twaindirect/session'\n",
    "dat='{\"kind\":\"twainlocalscanner\",\"commandId\":\"7540dfa3-91c4-4eca-b566-52c0fff9cb6a\",\"method\":\"readImageBlock\",\"params\":{\"sessionId\":\"'.encode('utf-8')+sess+'\",\"imageBlockNum\":1}}'.encode('utf-8')\n",
    "\n",
    "headers={\"Content-Type\":\"application/json; charset=UTF-8\",\"Content-Length\": str(len(dat)),\"X-Privet-Token\": response.json()['x-privet-token']}\n",
    "\n",
    "pdf_data = requests.post(url, headers = headers, data=dat, verify = False)\n",
    "\n",
    "print(pdf_data.text)"
   ]
  },
  {
   "cell_type": "code",
   "execution_count": 42,
   "metadata": {},
   "outputs": [
    {
     "name": "stdout",
     "output_type": "stream",
     "text": [
      "<class 'bytes'>\n"
     ]
    }
   ],
   "source": [
    "print(type(pdf_data.content))\n",
    "with open('yourfile.pdf', 'wb') as f:\n",
    "    f.write(pdf_data.content)"
   ]
  },
  {
   "cell_type": "code",
   "execution_count": 16,
   "metadata": {},
   "outputs": [
    {
     "data": {
      "text/plain": [
       "11229765"
      ]
     },
     "execution_count": 16,
     "metadata": {},
     "output_type": "execute_result"
    }
   ],
   "source": [
    "len(pdf_data.content)"
   ]
  },
  {
   "cell_type": "markdown",
   "metadata": {},
   "source": [
    "# Release Image Blocks"
   ]
  },
  {
   "cell_type": "code",
   "execution_count": 18,
   "metadata": {},
   "outputs": [
    {
     "name": "stdout",
     "output_type": "stream",
     "text": [
      "{\"kind\":\"twainlocalscanner\",\"commandId\":\"7540dfa3-91c4-4eca-b566-52c0fbf9cb6a\",\"method\":\"releaseImageBlocks\",\"results\":{\"success\":true,\"session\":{\"sessionId\":\"36dd6f25-2fe0-4570-8951-6434e730819c\",\"revision\":7,\"state\":\"ready\",\"status\":{\"success\":true,\"detected\":\"nominal\"},\"doneCapturing\":true,\"imageBlocksDrained\":true,\"imageBlockNum\":0,\"imageBlocks\":[],\"imageBlocksComplete\":[]}}}\n"
     ]
    },
    {
     "name": "stderr",
     "output_type": "stream",
     "text": [
      "C:\\Users\\asmna\\Documents\\Python\\lib\\site-packages\\urllib3\\connectionpool.py:847: InsecureRequestWarning: Unverified HTTPS request is being made. Adding certificate verification is strongly advised. See: https://urllib3.readthedocs.io/en/latest/advanced-usage.html#ssl-warnings\n",
      "  InsecureRequestWarning)\n"
     ]
    }
   ],
   "source": [
    "url='https://LAPTOP-81UMPBDJ.local:34034/privet/twaindirect/session'\n",
    "\n",
    "dat='{\"kind\":\"twainlocalscanner\",\"commandId\":\"7540dfa3-91c4-4eca-b566-52c0fbf9cb6a\",\"method\":\"releaseImageBlocks\",\"params\":{\"sessionId\":\"'.encode('utf-8')+sess+'\",\"imageBlockNum\":1,\"lastImageBlockNum\":1}}'.encode('utf-8')\n",
    "\n",
    "headers={\"Content-Type\":\"application/json; charset=UTF-8\",\"Content-Length\": str(len(dat)),\"X-Privet-Token\": response.json()['x-privet-token']}\n",
    "\n",
    "z2 = requests.post(url, headers = headers, data=dat, verify = False)\n",
    "\n",
    "print(z2.text)"
   ]
  },
  {
   "cell_type": "markdown",
   "metadata": {},
   "source": [
    "# Close Session"
   ]
  },
  {
   "cell_type": "code",
   "execution_count": 19,
   "metadata": {},
   "outputs": [
    {
     "name": "stdout",
     "output_type": "stream",
     "text": [
      "165\n"
     ]
    },
    {
     "data": {
      "text/plain": [
       "b'{\"kind\":\"twainlocalscanner\",\"commandId\":\"0ac07a52-3127-4876-bebe-6ecd2351f653\",\"method\":\"closeSession\",\"params\":{\"sessionId\":\"36dd6f25-2fe0-4570-8951-6434e730819c\"}}'"
      ]
     },
     "execution_count": 19,
     "metadata": {},
     "output_type": "execute_result"
    }
   ],
   "source": [
    "dat='{\"kind\":\"twainlocalscanner\",\"commandId\":\"0ac07a52-3127-4876-bebe-6ecd2351f653\",\"method\":\"closeSession\",\"params\":{\"sessionId\":\"'.encode('utf-8')+sess+'\"}}'.encode('utf-8')\n",
    "\n",
    "print(len(dat))\n",
    "dat"
   ]
  },
  {
   "cell_type": "code",
   "execution_count": 21,
   "metadata": {},
   "outputs": [
    {
     "name": "stdout",
     "output_type": "stream",
     "text": [
      "{\"kind\":\"twainlocalscanner\",\"commandId\":\"0ac07a52-3127-4876-bebe-6ecd2351f653\",\"method\":\"closeSession\",\"results\":{\"success\":true,\"session\":{\"sessionId\":\"36dd6f25-2fe0-4570-8951-6434e730819c\",\"revision\":8,\"state\":\"noSession\",\"status\":{\"success\":true,\"detected\":\"nominal\"},\"doneCapturing\":true,\"imageBlocksDrained\":true,\"imageBlockNum\":0,\"imageBlocks\":[],\"imageBlocksComplete\":[]}}}\n"
     ]
    },
    {
     "name": "stderr",
     "output_type": "stream",
     "text": [
      "C:\\Users\\asmna\\Documents\\Python\\lib\\site-packages\\urllib3\\connectionpool.py:847: InsecureRequestWarning: Unverified HTTPS request is being made. Adding certificate verification is strongly advised. See: https://urllib3.readthedocs.io/en/latest/advanced-usage.html#ssl-warnings\n",
      "  InsecureRequestWarning)\n"
     ]
    }
   ],
   "source": [
    "url='https://LAPTOP-81UMPBDJ.local:34034/privet/twaindirect/session'\n",
    "dat='{\"kind\":\"twainlocalscanner\",\"commandId\":\"0ac07a52-3127-4876-bebe-6ecd2351f653\",\"method\":\"closeSession\",\"params\":{\"sessionId\":\"'.encode('utf-8')+sess+'\"}}'.encode('utf-8')\n",
    "\n",
    "headers={\"Content-Type\":\"application/json; charset=UTF-8\",\"Content-Length\": str(len(dat)),\"X-Privet-Token\": response.json()['x-privet-token']}\n",
    "\n",
    "y = requests.post(url, headers = headers, data=dat, verify = False)\n",
    "\n",
    "print(y.text)"
   ]
  },
  {
   "cell_type": "code",
   "execution_count": 53,
   "metadata": {},
   "outputs": [],
   "source": [
    "# url='https://LAPTOP-81UMPBDJ.local:34034/privet/twaindirect/session'\n",
    "# dat='{\"kind\": \"twainlocalscanner\",\"commandId\": \"0ac07a52-3127-4876-bebe-6ecd2351f649\",\"method\": \"stopCapturing\",\"params\":{\"sessionId\":\"'.encode('utf-8')+sess+'\"}}'.encode('utf-8')\n",
    "\n",
    "# headers={\"Content-Type\":\"application/json; charset=UTF-8\",\"Content-Length\": str(len(dat)),\"X-Privet-Token\": response.json()['x-privet-token']}\n",
    "\n",
    "# z3 = requests.post(url, headers = headers, data=dat, verify = False)\n",
    "\n",
    "# print(z3.text)"
   ]
  },
  {
   "cell_type": "code",
   "execution_count": 54,
   "metadata": {},
   "outputs": [
    {
     "data": {
      "text/plain": [
       "190"
      ]
     },
     "execution_count": 54,
     "metadata": {},
     "output_type": "execute_result"
    }
   ],
   "source": [
    "d='{\"kind\": \"twainlocalscanner\",\"commandId\": \"0ac07a52-3127-4876-bebe-6ecd2351f642\",\"method\": \"waitForEvents\",\"params\": {\"sessionId\":\"cb7199cf-336b-4008-89b1-cb7c3e5cdbbc\",\"sessionRevision\":2}}'\n",
    "len(d.encode('utf-8'))"
   ]
  },
  {
   "cell_type": "code",
   "execution_count": null,
   "metadata": {},
   "outputs": [],
   "source": []
  }
 ],
 "metadata": {
  "kernelspec": {
   "display_name": "Python 3",
   "language": "python",
   "name": "python3"
  },
  "language_info": {
   "codemirror_mode": {
    "name": "ipython",
    "version": 3
   },
   "file_extension": ".py",
   "mimetype": "text/x-python",
   "name": "python",
   "nbconvert_exporter": "python",
   "pygments_lexer": "ipython3",
   "version": "3.7.1"
  }
 },
 "nbformat": 4,
 "nbformat_minor": 2
}
